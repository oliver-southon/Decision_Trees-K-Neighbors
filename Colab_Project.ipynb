{
  "nbformat": 4,
  "nbformat_minor": 0,
  "metadata": {
    "colab": {
      "name": "Franklin_Oliver_A2_IN_USE.ipynb",
      "provenance": [],
      "collapsed_sections": [],
      "toc_visible": true
    },
    "kernelspec": {
      "name": "python3",
      "display_name": "Python 3"
    },
    "language_info": {
      "name": "python"
    }
  },
  "cells": [
    {
      "cell_type": "markdown",
      "metadata": {
        "id": "wg7VDFselWPC"
      },
      "source": [
        "# **0. Setup - Imports/Function Declarations**"
      ]
    },
    {
      "cell_type": "code",
      "metadata": {
        "id": "Hl949nndQrZs"
      },
      "source": [
        "# -- Import packages -- #\n",
        "\n",
        "#Analysis\n",
        "import pandas as pd\n",
        "import numpy as np\n",
        "import seaborn as sns\n",
        "import matplotlib.pyplot as plt\n",
        "\n",
        "#Modelling Packages\n",
        "from sklearn.datasets import load_iris\n",
        "from sklearn.model_selection import train_test_split\n",
        "from sklearn.neighbors import KNeighborsClassifier\n",
        "from sklearn.metrics import confusion_matrix\n",
        "from sklearn.metrics import classification_report\n",
        "\n",
        "from sklearn.metrics import accuracy_score\n",
        "from sklearn.model_selection import train_test_split\n",
        "from sklearn.metrics import roc_auc_score\n",
        "from sklearn.model_selection import GridSearchCV"
      ],
      "execution_count": null,
      "outputs": []
    },
    {
      "cell_type": "code",
      "metadata": {
        "id": "RkNzpZ1_HpvV"
      },
      "source": [
        "# IMPORTS: df (dataframe), binary_col (str), cont_col(str), title(str), x(str)\n",
        "# PURPOSE: Plot two histograms for the conitinuous variable; one for positive (1) and one for negative (0) on the binary variables\n",
        "\n",
        "def plot2Hist(df, binary_col, cont_col, title, x):\n",
        "  fig, (ax1, ax2) = plt.subplots(1, 2, sharex=True) # Each histogram will share the same x value for better comparison representation. They don't share y axis as population sizes (and therefore frequency) may be different\n",
        "  fig.tight_layout()\n",
        "  ax1.hist(df.loc[df[binary_col] == 1][cont_col], edgecolor='k', color=\"#ff7f0e\")\n",
        "  ax1.set_title(\"Positive\")\n",
        "  ax1.set_xlabel(x)\n",
        "  ax1.set_ylabel(\"Frequency\")\n",
        "  ax2.hist(df.loc[df[binary_col] == 0][cont_col], edgecolor='k');\n",
        "  ax2.set_title(\"Negative\")\n",
        "  ax2.set_xlabel(x)\n",
        "  ax2.set_ylabel(\"Frequency\")\n",
        "  fig.suptitle(title, fontsize=16, y=1.1);\n"
      ],
      "execution_count": null,
      "outputs": []
    },
    {
      "cell_type": "markdown",
      "metadata": {
        "id": "wIqPG-11Saz-"
      },
      "source": [
        "# **1. Data Retrieval and Preparation**"
      ]
    },
    {
      "cell_type": "code",
      "metadata": {
        "id": "iOrqOBuPfehY"
      },
      "source": [
        "# Data Path\n",
        "data_path = \"http://titan.csit.rmit.edu.au/~s3784440/DataSet/Cervical%20Cancer%20Behavior%20Risk-DataSet.csv\""
      ],
      "execution_count": null,
      "outputs": []
    },
    {
      "cell_type": "code",
      "metadata": {
        "id": "FYFBqffOQyww"
      },
      "source": [
        "df = pd.read_csv(data_path, sep=',', decimal='.', header=0)"
      ],
      "execution_count": null,
      "outputs": []
    },
    {
      "cell_type": "code",
      "metadata": {
        "id": "9kQqcyq4Q_Pg",
        "colab": {
          "base_uri": "https://localhost:8080/",
          "height": 426
        },
        "outputId": "801ea49d-e308-4053-e751-86f6d8a48370"
      },
      "source": [
        "df"
      ],
      "execution_count": null,
      "outputs": [
        {
          "output_type": "execute_result",
          "data": {
            "text/html": [
              "<div>\n",
              "<style scoped>\n",
              "    .dataframe tbody tr th:only-of-type {\n",
              "        vertical-align: middle;\n",
              "    }\n",
              "\n",
              "    .dataframe tbody tr th {\n",
              "        vertical-align: top;\n",
              "    }\n",
              "\n",
              "    .dataframe thead th {\n",
              "        text-align: right;\n",
              "    }\n",
              "</style>\n",
              "<table border=\"1\" class=\"dataframe\">\n",
              "  <thead>\n",
              "    <tr style=\"text-align: right;\">\n",
              "      <th></th>\n",
              "      <th>behavior_sexualRisk</th>\n",
              "      <th>behavior_eating</th>\n",
              "      <th>behavior_personalHygine</th>\n",
              "      <th>intention_aggregation</th>\n",
              "      <th>intention_commitment</th>\n",
              "      <th>attitude_consistency</th>\n",
              "      <th>attitude_spontaneity</th>\n",
              "      <th>norm_significantPerson</th>\n",
              "      <th>norm_fulfillment</th>\n",
              "      <th>perception_vulnerability</th>\n",
              "      <th>perception_severity</th>\n",
              "      <th>motivation_strength</th>\n",
              "      <th>motivation_willingness</th>\n",
              "      <th>socialSupport_emotionality</th>\n",
              "      <th>socialSupport_appreciation</th>\n",
              "      <th>socialSupport_instrumental</th>\n",
              "      <th>empowerment_knowledge</th>\n",
              "      <th>empowerment_abilities</th>\n",
              "      <th>empowerment_desires</th>\n",
              "      <th>ca_cervix</th>\n",
              "    </tr>\n",
              "  </thead>\n",
              "  <tbody>\n",
              "    <tr>\n",
              "      <th>0</th>\n",
              "      <td>10</td>\n",
              "      <td>13</td>\n",
              "      <td>12</td>\n",
              "      <td>4</td>\n",
              "      <td>7</td>\n",
              "      <td>9</td>\n",
              "      <td>10</td>\n",
              "      <td>1</td>\n",
              "      <td>8</td>\n",
              "      <td>7</td>\n",
              "      <td>3</td>\n",
              "      <td>14</td>\n",
              "      <td>8</td>\n",
              "      <td>5</td>\n",
              "      <td>7</td>\n",
              "      <td>12</td>\n",
              "      <td>12</td>\n",
              "      <td>11</td>\n",
              "      <td>8</td>\n",
              "      <td>1</td>\n",
              "    </tr>\n",
              "    <tr>\n",
              "      <th>1</th>\n",
              "      <td>10</td>\n",
              "      <td>11</td>\n",
              "      <td>11</td>\n",
              "      <td>10</td>\n",
              "      <td>14</td>\n",
              "      <td>7</td>\n",
              "      <td>7</td>\n",
              "      <td>5</td>\n",
              "      <td>5</td>\n",
              "      <td>4</td>\n",
              "      <td>2</td>\n",
              "      <td>15</td>\n",
              "      <td>13</td>\n",
              "      <td>7</td>\n",
              "      <td>6</td>\n",
              "      <td>5</td>\n",
              "      <td>5</td>\n",
              "      <td>4</td>\n",
              "      <td>4</td>\n",
              "      <td>1</td>\n",
              "    </tr>\n",
              "    <tr>\n",
              "      <th>2</th>\n",
              "      <td>10</td>\n",
              "      <td>15</td>\n",
              "      <td>3</td>\n",
              "      <td>2</td>\n",
              "      <td>14</td>\n",
              "      <td>8</td>\n",
              "      <td>10</td>\n",
              "      <td>1</td>\n",
              "      <td>4</td>\n",
              "      <td>7</td>\n",
              "      <td>2</td>\n",
              "      <td>7</td>\n",
              "      <td>3</td>\n",
              "      <td>3</td>\n",
              "      <td>6</td>\n",
              "      <td>11</td>\n",
              "      <td>3</td>\n",
              "      <td>3</td>\n",
              "      <td>15</td>\n",
              "      <td>1</td>\n",
              "    </tr>\n",
              "    <tr>\n",
              "      <th>3</th>\n",
              "      <td>10</td>\n",
              "      <td>11</td>\n",
              "      <td>10</td>\n",
              "      <td>10</td>\n",
              "      <td>15</td>\n",
              "      <td>7</td>\n",
              "      <td>7</td>\n",
              "      <td>1</td>\n",
              "      <td>5</td>\n",
              "      <td>4</td>\n",
              "      <td>2</td>\n",
              "      <td>15</td>\n",
              "      <td>13</td>\n",
              "      <td>7</td>\n",
              "      <td>4</td>\n",
              "      <td>4</td>\n",
              "      <td>4</td>\n",
              "      <td>4</td>\n",
              "      <td>4</td>\n",
              "      <td>1</td>\n",
              "    </tr>\n",
              "    <tr>\n",
              "      <th>4</th>\n",
              "      <td>8</td>\n",
              "      <td>11</td>\n",
              "      <td>7</td>\n",
              "      <td>8</td>\n",
              "      <td>10</td>\n",
              "      <td>7</td>\n",
              "      <td>8</td>\n",
              "      <td>1</td>\n",
              "      <td>5</td>\n",
              "      <td>3</td>\n",
              "      <td>2</td>\n",
              "      <td>15</td>\n",
              "      <td>5</td>\n",
              "      <td>3</td>\n",
              "      <td>6</td>\n",
              "      <td>12</td>\n",
              "      <td>5</td>\n",
              "      <td>4</td>\n",
              "      <td>7</td>\n",
              "      <td>1</td>\n",
              "    </tr>\n",
              "    <tr>\n",
              "      <th>...</th>\n",
              "      <td>...</td>\n",
              "      <td>...</td>\n",
              "      <td>...</td>\n",
              "      <td>...</td>\n",
              "      <td>...</td>\n",
              "      <td>...</td>\n",
              "      <td>...</td>\n",
              "      <td>...</td>\n",
              "      <td>...</td>\n",
              "      <td>...</td>\n",
              "      <td>...</td>\n",
              "      <td>...</td>\n",
              "      <td>...</td>\n",
              "      <td>...</td>\n",
              "      <td>...</td>\n",
              "      <td>...</td>\n",
              "      <td>...</td>\n",
              "      <td>...</td>\n",
              "      <td>...</td>\n",
              "      <td>...</td>\n",
              "    </tr>\n",
              "    <tr>\n",
              "      <th>67</th>\n",
              "      <td>10</td>\n",
              "      <td>14</td>\n",
              "      <td>14</td>\n",
              "      <td>10</td>\n",
              "      <td>15</td>\n",
              "      <td>6</td>\n",
              "      <td>7</td>\n",
              "      <td>5</td>\n",
              "      <td>15</td>\n",
              "      <td>14</td>\n",
              "      <td>10</td>\n",
              "      <td>15</td>\n",
              "      <td>13</td>\n",
              "      <td>9</td>\n",
              "      <td>8</td>\n",
              "      <td>12</td>\n",
              "      <td>12</td>\n",
              "      <td>11</td>\n",
              "      <td>9</td>\n",
              "      <td>0</td>\n",
              "    </tr>\n",
              "    <tr>\n",
              "      <th>68</th>\n",
              "      <td>10</td>\n",
              "      <td>12</td>\n",
              "      <td>15</td>\n",
              "      <td>10</td>\n",
              "      <td>15</td>\n",
              "      <td>8</td>\n",
              "      <td>8</td>\n",
              "      <td>5</td>\n",
              "      <td>15</td>\n",
              "      <td>14</td>\n",
              "      <td>8</td>\n",
              "      <td>12</td>\n",
              "      <td>14</td>\n",
              "      <td>11</td>\n",
              "      <td>7</td>\n",
              "      <td>13</td>\n",
              "      <td>15</td>\n",
              "      <td>11</td>\n",
              "      <td>14</td>\n",
              "      <td>0</td>\n",
              "    </tr>\n",
              "    <tr>\n",
              "      <th>69</th>\n",
              "      <td>10</td>\n",
              "      <td>8</td>\n",
              "      <td>11</td>\n",
              "      <td>6</td>\n",
              "      <td>10</td>\n",
              "      <td>6</td>\n",
              "      <td>4</td>\n",
              "      <td>3</td>\n",
              "      <td>13</td>\n",
              "      <td>9</td>\n",
              "      <td>8</td>\n",
              "      <td>14</td>\n",
              "      <td>12</td>\n",
              "      <td>9</td>\n",
              "      <td>7</td>\n",
              "      <td>11</td>\n",
              "      <td>12</td>\n",
              "      <td>10</td>\n",
              "      <td>10</td>\n",
              "      <td>0</td>\n",
              "    </tr>\n",
              "    <tr>\n",
              "      <th>70</th>\n",
              "      <td>9</td>\n",
              "      <td>12</td>\n",
              "      <td>13</td>\n",
              "      <td>10</td>\n",
              "      <td>13</td>\n",
              "      <td>6</td>\n",
              "      <td>6</td>\n",
              "      <td>5</td>\n",
              "      <td>14</td>\n",
              "      <td>13</td>\n",
              "      <td>10</td>\n",
              "      <td>13</td>\n",
              "      <td>12</td>\n",
              "      <td>11</td>\n",
              "      <td>8</td>\n",
              "      <td>12</td>\n",
              "      <td>11</td>\n",
              "      <td>13</td>\n",
              "      <td>15</td>\n",
              "      <td>0</td>\n",
              "    </tr>\n",
              "    <tr>\n",
              "      <th>71</th>\n",
              "      <td>10</td>\n",
              "      <td>14</td>\n",
              "      <td>14</td>\n",
              "      <td>6</td>\n",
              "      <td>12</td>\n",
              "      <td>7</td>\n",
              "      <td>8</td>\n",
              "      <td>5</td>\n",
              "      <td>15</td>\n",
              "      <td>12</td>\n",
              "      <td>10</td>\n",
              "      <td>10</td>\n",
              "      <td>13</td>\n",
              "      <td>11</td>\n",
              "      <td>9</td>\n",
              "      <td>14</td>\n",
              "      <td>13</td>\n",
              "      <td>15</td>\n",
              "      <td>15</td>\n",
              "      <td>0</td>\n",
              "    </tr>\n",
              "  </tbody>\n",
              "</table>\n",
              "<p>72 rows × 20 columns</p>\n",
              "</div>"
            ],
            "text/plain": [
              "    behavior_sexualRisk  behavior_eating  ...  empowerment_desires  ca_cervix\n",
              "0                    10               13  ...                    8          1\n",
              "1                    10               11  ...                    4          1\n",
              "2                    10               15  ...                   15          1\n",
              "3                    10               11  ...                    4          1\n",
              "4                     8               11  ...                    7          1\n",
              "..                  ...              ...  ...                  ...        ...\n",
              "67                   10               14  ...                    9          0\n",
              "68                   10               12  ...                   14          0\n",
              "69                   10                8  ...                   10          0\n",
              "70                    9               12  ...                   15          0\n",
              "71                   10               14  ...                   15          0\n",
              "\n",
              "[72 rows x 20 columns]"
            ]
          },
          "metadata": {
            "tags": []
          },
          "execution_count": 5
        }
      ]
    },
    {
      "cell_type": "code",
      "metadata": {
        "id": "v_MCL3VBFgVi",
        "colab": {
          "base_uri": "https://localhost:8080/"
        },
        "outputId": "a30988cc-7c48-4567-9e7c-fea8cf199a91"
      },
      "source": [
        "df.shape"
      ],
      "execution_count": null,
      "outputs": [
        {
          "output_type": "execute_result",
          "data": {
            "text/plain": [
              "(72, 20)"
            ]
          },
          "metadata": {
            "tags": []
          },
          "execution_count": 6
        }
      ]
    },
    {
      "cell_type": "markdown",
      "metadata": {
        "id": "CFN_Y8qzFhZJ"
      },
      "source": [
        "*When discussing accuracy, it will be justified to consider the relatively low row count. (**lack of data**)*"
      ]
    },
    {
      "cell_type": "code",
      "metadata": {
        "id": "_biiBAzURApJ",
        "colab": {
          "base_uri": "https://localhost:8080/"
        },
        "outputId": "50d183dc-809a-4518-97f8-c9d89e0eda1d"
      },
      "source": [
        "# NA VALUES\n",
        "\n",
        "print(\"\\033[1mColumns With na Values\\033[0m\")\n",
        "print(df.isna().any())"
      ],
      "execution_count": null,
      "outputs": [
        {
          "output_type": "stream",
          "text": [
            "\u001b[1mColumns With na Values\u001b[0m\n",
            "behavior_sexualRisk           False\n",
            "behavior_eating               False\n",
            "behavior_personalHygine       False\n",
            "intention_aggregation         False\n",
            "intention_commitment          False\n",
            "attitude_consistency          False\n",
            "attitude_spontaneity          False\n",
            "norm_significantPerson        False\n",
            "norm_fulfillment              False\n",
            "perception_vulnerability      False\n",
            "perception_severity           False\n",
            "motivation_strength           False\n",
            "motivation_willingness        False\n",
            "socialSupport_emotionality    False\n",
            "socialSupport_appreciation    False\n",
            "socialSupport_instrumental    False\n",
            "empowerment_knowledge         False\n",
            "empowerment_abilities         False\n",
            "empowerment_desires           False\n",
            "ca_cervix                     False\n",
            "dtype: bool\n"
          ],
          "name": "stdout"
        }
      ]
    },
    {
      "cell_type": "code",
      "metadata": {
        "id": "EnPdKzC2StVn",
        "colab": {
          "base_uri": "https://localhost:8080/"
        },
        "outputId": "da8cd43e-b6de-4c99-89ce-29e43d3b229a"
      },
      "source": [
        "# DATA TYPES\n",
        "\n",
        "print(\"\\033[1mData Types\\033[0m\")\n",
        "df.dtypes"
      ],
      "execution_count": null,
      "outputs": [
        {
          "output_type": "stream",
          "text": [
            "\u001b[1mData Types\u001b[0m\n"
          ],
          "name": "stdout"
        },
        {
          "output_type": "execute_result",
          "data": {
            "text/plain": [
              "behavior_sexualRisk           int64\n",
              "behavior_eating               int64\n",
              "behavior_personalHygine       int64\n",
              "intention_aggregation         int64\n",
              "intention_commitment          int64\n",
              "attitude_consistency          int64\n",
              "attitude_spontaneity          int64\n",
              "norm_significantPerson        int64\n",
              "norm_fulfillment              int64\n",
              "perception_vulnerability      int64\n",
              "perception_severity           int64\n",
              "motivation_strength           int64\n",
              "motivation_willingness        int64\n",
              "socialSupport_emotionality    int64\n",
              "socialSupport_appreciation    int64\n",
              "socialSupport_instrumental    int64\n",
              "empowerment_knowledge         int64\n",
              "empowerment_abilities         int64\n",
              "empowerment_desires           int64\n",
              "ca_cervix                     int64\n",
              "dtype: object"
            ]
          },
          "metadata": {
            "tags": []
          },
          "execution_count": 8
        }
      ]
    },
    {
      "cell_type": "code",
      "metadata": {
        "id": "M3fNfRdQTBVC"
      },
      "source": [
        "# For each column in the dataframe\n",
        "for column_name in df:\n",
        "    #==================================================================\n",
        "    ### GENERAL CLEANING OF DATA TYPES\n",
        "    \n",
        "    # if the column data type is an int\n",
        "    if df[column_name].dtype == 'int64':\n",
        "        # invert the polarity to positive\n",
        "        df.loc[df[df[column_name]<0].index, column_name] = df.loc[df[df[column_name]<0].index, column_name]*-1\n",
        "    \n",
        "     # if the column data type is a float        \n",
        "    if df[column_name].dtype == \"float64\":\n",
        "        # invert the polarity to positive\n",
        "        df.loc[df[df[column_name]<0].index, column_name] = df.loc[df[df[column_name]<0].index, column_name]*-1\n",
        "        \n",
        "    "
      ],
      "execution_count": null,
      "outputs": []
    },
    {
      "cell_type": "markdown",
      "metadata": {
        "id": "eCyILFVpTRz2"
      },
      "source": [
        "# **2. Data Exploration**"
      ]
    },
    {
      "cell_type": "markdown",
      "metadata": {
        "id": "DyjziHm3TrkM"
      },
      "source": [
        "## **Pairplots (broken up into quarters for easier viewing)**"
      ]
    },
    {
      "cell_type": "code",
      "metadata": {
        "colab": {
          "base_uri": "https://localhost:8080/"
        },
        "id": "zDZuzInbUcea",
        "outputId": "17fa132c-2662-447b-97b0-dee390b99414"
      },
      "source": [
        "len(df.columns)"
      ],
      "execution_count": null,
      "outputs": [
        {
          "output_type": "execute_result",
          "data": {
            "text/plain": [
              "20"
            ]
          },
          "metadata": {
            "tags": []
          },
          "execution_count": 10
        }
      ]
    },
    {
      "cell_type": "code",
      "metadata": {
        "id": "9WnnjYaDV0OH"
      },
      "source": [
        "# ## FE: I recommend to get rid of this hard coding\n",
        "d1 = df.iloc[:, :5]\n",
        "d1 = d1.join(df[\"ca_cervix\"])\n",
        "d2 = df.iloc[:, 5:10] \n",
        "d2 = d2.join(df[\"ca_cervix\"])\n",
        "d3 = df.iloc[:, 10:15] \n",
        "d3 = d3.join(df[\"ca_cervix\"])\n",
        "d4 = df.iloc[:, 15:19] \n",
        "d4 = d4.join(df[\"ca_cervix\"])\n"
      ],
      "execution_count": null,
      "outputs": []
    },
    {
      "cell_type": "code",
      "metadata": {
        "id": "QWF_MG_WTxAp",
        "colab": {
          "base_uri": "https://localhost:8080/",
          "height": 918
        },
        "outputId": "ae4b51b7-7ebc-4ef3-c3cf-dbc588b5294a"
      },
      "source": [
        "# #SEABORNE INOP TO SAVE TIME FOR THE TIME BEING\n",
        "sns.set_theme(style=\"ticks\")\n",
        "sns.pairplot(d1, hue=\"ca_cervix\")"
      ],
      "execution_count": null,
      "outputs": [
        {
          "output_type": "execute_result",
          "data": {
            "text/plain": [
              "<seaborn.axisgrid.PairGrid at 0x7fe100b78b10>"
            ]
          },
          "metadata": {
            "tags": []
          },
          "execution_count": 12
        },
        {
          "output_type": "display_data",
          "data": {
            "image/png": "[encoded data removed]",
            "text/plain": [
              "<Figure size 965.3x900 with 30 Axes>"
            ]
          },
          "metadata": {
            "tags": []
          }
        }
      ]
    },
    {
      "cell_type": "code",
      "metadata": {
        "id": "QAZaBH9XVX5L"
      },
      "source": [
        "# sns.pairplot(d2, hue=\"ca_cervix\")\n"
      ],
      "execution_count": null,
      "outputs": []
    },
    {
      "cell_type": "code",
      "metadata": {
        "id": "7rUFFLJ-ZTsI"
      },
      "source": [
        "# sns.pairplot(d3, hue=\"ca_cervix\")"
      ],
      "execution_count": null,
      "outputs": []
    },
    {
      "cell_type": "code",
      "metadata": {
        "id": "LiSeN6VsZUlX"
      },
      "source": [
        "# sns.pairplot(d4, hue=\"ca_cervix\")"
      ],
      "execution_count": null,
      "outputs": []
    },
    {
      "cell_type": "markdown",
      "metadata": {
        "id": "JxoPRssHc2iU"
      },
      "source": [
        "Looking at the histograms, we can see that the distributions that are the most different from each other include:\n",
        "\n",
        "---\n",
        "\n",
        "    - behaviour_personalHygine\n",
        "    - intention_commitment\n",
        "    * norm_fulfillment\n",
        "    * perception_vulnerability\n",
        "    ~ perception_severity\n",
        "    ~ motivation_strength\n",
        "    ~ motivation_willingness\n",
        "    ~ socialSupport_emotionality\n",
        "    + empowerment_knowledge\n",
        "    + empowerment_abilities\n",
        "    + empowerment_desires\n",
        "\n"
      ]
    },
    {
      "cell_type": "markdown",
      "metadata": {
        "id": "ZbJbW7SWdaxL"
      },
      "source": [
        "With that noted, these will make for ideal features in the training model"
      ]
    },
    {
      "cell_type": "code",
      "metadata": {
        "id": "2sejc-MiHm7A"
      },
      "source": [
        ""
      ],
      "execution_count": null,
      "outputs": []
    },
    {
      "cell_type": "markdown",
      "metadata": {
        "id": "8URQJ_dekjBa"
      },
      "source": [
        "## **Graphs**"
      ]
    },
    {
      "cell_type": "markdown",
      "metadata": {
        "id": "Atim47IgfCZ2"
      },
      "source": [
        "### Personal Hygeine"
      ]
    },
    {
      "cell_type": "markdown",
      "metadata": {
        "id": "YBifti0qdtZH"
      },
      "source": [
        "*Participants with cervical cancer tend to have lower levels of hygeine than participants without cervical cancer*"
      ]
    },
    {
      "cell_type": "code",
      "metadata": {
        "id": "DIjoLU1KSfj7",
        "colab": {
          "base_uri": "https://localhost:8080/",
          "height": 352
        },
        "outputId": "f9fa72ad-bae3-45fe-a788-553c7f2bbb39"
      },
      "source": [
        "plot2Hist(df, \"ca_cervix\", \"behavior_personalHygine\", \"Participants and their Personal Hygeine\", \"Personal Hygeine Level\")"
      ],
      "execution_count": null,
      "outputs": [
        {
          "output_type": "display_data",
          "data": {
            "image/png": "[encoded data removed]",
            "text/plain": [
              "<Figure size 432x288 with 2 Axes>"
            ]
          },
          "metadata": {
            "tags": []
          }
        }
      ]
    },
    {
      "cell_type": "markdown",
      "metadata": {
        "id": "nu_EHjNZG-RX"
      },
      "source": [
        "Positive participants' hygeine rating follows closest to a 'normal/symmetrical' shape, whereas negative participants' hygeine rating follows a 'skewed-right' pattern. This suggests that those who test positive will likely have a lower personal hygeine rating. Therefore, this graph supports the hypothesis."
      ]
    },
    {
      "cell_type": "markdown",
      "metadata": {
        "id": "kjn8DuKmfG1S"
      },
      "source": [
        "### General Commitment/Intent to Committ"
      ]
    },
    {
      "cell_type": "markdown",
      "metadata": {
        "id": "3GUDAhMweL3E"
      },
      "source": [
        "*Cancer positive participants will experience lower levels of general commitment as opposed to cancer negative participants*"
      ]
    },
    {
      "cell_type": "code",
      "metadata": {
        "colab": {
          "base_uri": "https://localhost:8080/",
          "height": 352
        },
        "id": "o7qOa5xCHh2Q",
        "outputId": "8c5493fc-0d86-4357-b7b4-94d4ae692ac9"
      },
      "source": [
        "plot2Hist(df, \"ca_cervix\", \"intention_commitment\", \"Participants and their General Commitment\", \"Intent to Commit\")"
      ],
      "execution_count": null,
      "outputs": [
        {
          "output_type": "display_data",
          "data": {
            "image/png": "[encoded data removed]",
            "text/plain": [
              "<Figure size 432x288 with 2 Axes>"
            ]
          },
          "metadata": {
            "tags": []
          }
        }
      ]
    },
    {
      "cell_type": "markdown",
      "metadata": {
        "id": "b4ASxsEuWD1Y"
      },
      "source": [
        "The distribution for cancer-negative participants is left-skewed/negative-skewed, meaning they have a generally high intent to commit. The distribution for cancer-positive participants doesn't exactly mirror the shape of the cancer-negative participants, although it does have a lower minimum and is more evenly spread. Therefore, it does support the hypothesis, but not to a great extent."
      ]
    },
    {
      "cell_type": "markdown",
      "metadata": {
        "id": "IQTcjlG4fPXV"
      },
      "source": [
        "### Normal Fulfillment"
      ]
    },
    {
      "cell_type": "markdown",
      "metadata": {
        "id": "NjEqWJO7fT4A"
      },
      "source": [
        "*Participants who have cancer will generally feel much less fulfilled than those who do not.*"
      ]
    },
    {
      "cell_type": "code",
      "metadata": {
        "colab": {
          "base_uri": "https://localhost:8080/",
          "height": 352
        },
        "id": "cFu3BeEpXDus",
        "outputId": "b21bffdb-aaeb-4501-ca21-35a3dd88ae00"
      },
      "source": [
        "plot2Hist(df, \"ca_cervix\", \"norm_fulfillment\", \"Participants and their Normal Fulfillment\", \"Normal Fulfillment\")"
      ],
      "execution_count": null,
      "outputs": [
        {
          "output_type": "display_data",
          "data": {
            "image/png": "[encoded data removed]",
            "text/plain": [
              "<Figure size 432x288 with 2 Axes>"
            ]
          },
          "metadata": {
            "tags": []
          }
        }
      ]
    },
    {
      "cell_type": "markdown",
      "metadata": {
        "id": "RrwjF6WtX2KO"
      },
      "source": [
        "The graphs almost mirror each other, with cancer-positive participants having a right-skewed distribution and cancer-negative participants having a more evenly spread distribution - but the highest frequency towards the right side of the graph. This means that most cancer-positive participants will feel a low level of fulfillment, whereas those who do not have cancer will liekly feel a higher level of commitment. It is important to note that several other factors can be affecting one's fulfillment, which may explain why there are occurences of cancer-negative participants in the '<5' range. However, the graph for cancer-positive participants does imply that their low fulfillment is mainly attributed to the presence of cancer. This supports the hypothesis."
      ]
    },
    {
      "cell_type": "markdown",
      "metadata": {
        "id": "6Idpd55MgVRS"
      },
      "source": [
        "### Perception of Self-Vulnerability"
      ]
    },
    {
      "cell_type": "markdown",
      "metadata": {
        "id": "VvBrGhQHgaCL"
      },
      "source": [
        "*Participants who have cervical cancer will feel greatly more vulnerable than participants who are free of cancer.*"
      ]
    },
    {
      "cell_type": "code",
      "metadata": {
        "colab": {
          "base_uri": "https://localhost:8080/",
          "height": 352
        },
        "id": "_dL-necEXO1S",
        "outputId": "f0ea7e1a-530f-4390-bc39-9e15f0a40cdc"
      },
      "source": [
        "plot2Hist(df, \"ca_cervix\", \"perception_vulnerability\", \"Participants and their Perception of Self-Vulnerability\", \"Vulnerability Perception\")"
      ],
      "execution_count": null,
      "outputs": [
        {
          "output_type": "display_data",
          "data": {
            "image/png": "[encoded data removed]",
            "text/plain": [
              "<Figure size 432x288 with 2 Axes>"
            ]
          },
          "metadata": {
            "tags": []
          }
        }
      ]
    },
    {
      "cell_type": "markdown",
      "metadata": {
        "id": "p6ZyUGUWYNvZ"
      },
      "source": [
        "Negative participants are rather evenly distribuited, probably due to the fact that vulnerability can stem from other factors such as depression and tragedy. On the other hand, participants who tested positive only had a maximum of 10, whereas cancer-negative participants had a maximum of 10. Thus, these graphs do support the hypothesis but not to a great extent."
      ]
    },
    {
      "cell_type": "markdown",
      "metadata": {
        "id": "49R442hIi80Z"
      },
      "source": [
        "### Perception of Severity"
      ]
    },
    {
      "cell_type": "markdown",
      "metadata": {
        "id": "N7dmkUPejA2L"
      },
      "source": [
        "*Participants who test positive for cervical cancer will have a lower perception of severity than those who do not.*"
      ]
    },
    {
      "cell_type": "code",
      "metadata": {
        "colab": {
          "base_uri": "https://localhost:8080/",
          "height": 352
        },
        "id": "3HGAN56Qb9yO",
        "outputId": "a23759f2-9215-4054-c6ca-1180ec1f2abd"
      },
      "source": [
        "plot2Hist(df, \"ca_cervix\", \"perception_severity\", \"Participants and their Perception of Severity\", \"Severity Perception\")"
      ],
      "execution_count": null,
      "outputs": [
        {
          "output_type": "display_data",
          "data": {
            "image/png": "[encoded data removed]",
            "text/plain": [
              "<Figure size 432x288 with 2 Axes>"
            ]
          },
          "metadata": {
            "tags": []
          }
        }
      ]
    },
    {
      "cell_type": "markdown",
      "metadata": {
        "id": "W-ZkUv8KjQC9"
      },
      "source": [
        "In this case, the graphs greatly suppor the hypothesis. The highest frequency of cancer-positive participants occured at the minimum (<2.5) range, with the maximum score being less than 7.5. Cancer negative participants, however, were much more evenly spread with their highest frequency being at the maximum value (between 9 and 10). This can be attributed to the fact that those with cervical cancer already feel a great deal of grief, thus the negative consequences associated with events may not be perceived as severe."
      ]
    },
    {
      "cell_type": "markdown",
      "metadata": {
        "id": "UBE6AHF6j9AG"
      },
      "source": [
        "### Willingness"
      ]
    },
    {
      "cell_type": "markdown",
      "metadata": {
        "id": "9VrsLdPNkApr"
      },
      "source": [
        "*Participants diagnosed with cervical cancer will a great a very low level of willingness compared to patients who test negative.*"
      ]
    },
    {
      "cell_type": "code",
      "metadata": {
        "colab": {
          "base_uri": "https://localhost:8080/",
          "height": 352
        },
        "id": "IEP-Qv-UcHcJ",
        "outputId": "570e8307-8112-440a-b979-db5069046654"
      },
      "source": [
        "plot2Hist(df, \"ca_cervix\", \"motivation_willingness\", \"Participants and their Willingness\", \"Willingness\")"
      ],
      "execution_count": null,
      "outputs": [
        {
          "output_type": "display_data",
          "data": {
            "image/png": "[encoded data removed]",
            "text/plain": [
              "<Figure size 432x288 with 2 Axes>"
            ]
          },
          "metadata": {
            "tags": []
          }
        }
      ]
    },
    {
      "cell_type": "markdown",
      "metadata": {
        "id": "5g06zR6_kIJH"
      },
      "source": [
        "Similar to the graphs for severity perception, the graphs here support the hypothesis as once again, the highest frequency for cancer-positive occurs at the minimum whereas the highest frequency for cancer-negative occurs at the maximum. This may be attributed to the fact that participants who have cancer will not feel a value in accomplishing tasks, due to the negative impacts of their current condition."
      ]
    },
    {
      "cell_type": "markdown",
      "metadata": {
        "id": "yPt0Bj64kqil"
      },
      "source": [
        "### Motivation"
      ]
    },
    {
      "cell_type": "markdown",
      "metadata": {
        "id": "1jkHLJ7gkkH8"
      },
      "source": [
        "*Participants who do not have cancer will feel more motivated than participants who do not have cancer*"
      ]
    },
    {
      "cell_type": "code",
      "metadata": {
        "colab": {
          "base_uri": "https://localhost:8080/",
          "height": 352
        },
        "id": "h5sRvBDMiOwA",
        "outputId": "ae660b50-44f1-4d07-f417-7d72b3cd2639"
      },
      "source": [
        "plot2Hist(df, \"ca_cervix\", \"motivation_strength\", \"Participants and their Motivation\", \"Motivation Strength\")"
      ],
      "execution_count": null,
      "outputs": [
        {
          "output_type": "display_data",
          "data": {
            "image/png": "[encoded data removed]",
            "text/plain": [
              "<Figure size 432x288 with 2 Axes>"
            ]
          },
          "metadata": {
            "tags": []
          }
        }
      ]
    },
    {
      "cell_type": "markdown",
      "metadata": {
        "id": "r9TM_1JDl27E"
      },
      "source": [
        "Surprisingly, the graphs only moderately supported the hypothesis. Both distributions are more or less left-skewed, with both of their highest frequency occuring in the maximum bin. Cancer positive participants, though, recorded a much lower minimum at approximately 4, compared to cancer negative participants' minimum of around 9. Therefore, this attribute is still eligible to be a feature in the machine learning model, it is just not as effective as the other attributes."
      ]
    },
    {
      "cell_type": "markdown",
      "metadata": {
        "id": "k2mq6tzxqzv9"
      },
      "source": [
        "### Emotional Support"
      ]
    },
    {
      "cell_type": "markdown",
      "metadata": {
        "id": "5LewIYjXq2u-"
      },
      "source": [
        "*Participants who have cervcical cancer will receive more emotional support than those who do not*"
      ]
    },
    {
      "cell_type": "code",
      "metadata": {
        "colab": {
          "base_uri": "https://localhost:8080/",
          "height": 352
        },
        "id": "4M91FgypehLR",
        "outputId": "86023ad4-4c93-4326-c6f0-fa1c4bf1c7cf"
      },
      "source": [
        "plot2Hist(df, \"ca_cervix\", \"socialSupport_emotionality\", \"Participants and their Emotional Support\", \"Emotional Support\")"
      ],
      "execution_count": null,
      "outputs": [
        {
          "output_type": "display_data",
          "data": {
            "image/png": "[encoded data removed]",
            "text/plain": [
              "<Figure size 432x288 with 2 Axes>"
            ]
          },
          "metadata": {
            "tags": []
          }
        }
      ]
    },
    {
      "cell_type": "markdown",
      "metadata": {
        "id": "oJi7Usz_rFg8"
      },
      "source": [
        ""
      ]
    },
    {
      "cell_type": "code",
      "metadata": {
        "colab": {
          "base_uri": "https://localhost:8080/",
          "height": 352
        },
        "id": "hqAX61y1fijT",
        "outputId": "35bd7106-7e11-4a26-8ae9-b72fdea41ad4"
      },
      "source": [
        "plot2Hist(df, \"ca_cervix\", \"empowerment_knowledge\", \"Participants and their Knowledge Empowerment\", \"Knowledge Empowerment\")"
      ],
      "execution_count": null,
      "outputs": [
        {
          "output_type": "display_data",
          "data": {
            "image/png": "[encoded data removed]",
            "text/plain": [
              "<Figure size 432x288 with 2 Axes>"
            ]
          },
          "metadata": {
            "tags": []
          }
        }
      ]
    },
    {
      "cell_type": "code",
      "metadata": {
        "colab": {
          "base_uri": "https://localhost:8080/",
          "height": 352
        },
        "id": "hOnrufINfqva",
        "outputId": "b6aa3f55-a46e-47fe-feca-e13bd47e52ca"
      },
      "source": [
        "plot2Hist(df, \"ca_cervix\", \"empowerment_abilities\", \"Participants and their Ability Empowerment\", \"Ability Empowerment\")"
      ],
      "execution_count": null,
      "outputs": [
        {
          "output_type": "display_data",
          "data": {
            "image/png": "[encoded data removed]",
            "text/plain": [
              "<Figure size 432x288 with 2 Axes>"
            ]
          },
          "metadata": {
            "tags": []
          }
        }
      ]
    },
    {
      "cell_type": "markdown",
      "metadata": {
        "id": "WnBI1G6QkxPi"
      },
      "source": [
        "### Level of Desire"
      ]
    },
    {
      "cell_type": "markdown",
      "metadata": {
        "id": "YYWaKDJZk04g"
      },
      "source": [
        "*Participants with cervical cancer will feel a much lower level of desire than participants who do not have cervical cancer*"
      ]
    },
    {
      "cell_type": "code",
      "metadata": {
        "colab": {
          "base_uri": "https://localhost:8080/",
          "height": 352
        },
        "id": "kgnR7cIof0rv",
        "outputId": "a6f5f4c4-4e10-46f4-a509-ce45b980cbf8"
      },
      "source": [
        "plot2Hist(df, \"ca_cervix\", \"empowerment_desires\", \"Participants and their Level of Desire\", \"Level of Desire\")"
      ],
      "execution_count": null,
      "outputs": [
        {
          "output_type": "display_data",
          "data": {
            "image/png": "[encoded data removed]",
            "text/plain": [
              "<Figure size 432x288 with 2 Axes>"
            ]
          },
          "metadata": {
            "tags": []
          }
        }
      ]
    },
    {
      "cell_type": "markdown",
      "metadata": {
        "id": "8uvBau75k-_X"
      },
      "source": [
        "The distribution histograms for desire level almost mirrors each other between cancer positive and cancer negative, as one is skewed right (positive) while the other is skewed left (negative). This proves the hypothesis correct "
      ]
    },
    {
      "cell_type": "markdown",
      "metadata": {
        "id": "8inLpaJvkqKw"
      },
      "source": [
        "### **Statistical Analysis**"
      ]
    },
    {
      "cell_type": "code",
      "metadata": {
        "colab": {
          "base_uri": "https://localhost:8080/"
        },
        "id": "j7Dsd-YghhjP",
        "outputId": "1d0c6a6a-26e4-4ab9-b2b8-2e24beb4e8f8"
      },
      "source": [
        "attrs = [\"behavior_personalHygine\",\n",
        "\"intention_commitment\",\n",
        "\"norm_fulfillment\",\n",
        "\"perception_vulnerability\",\n",
        "\"perception_severity\",\n",
        "\"motivation_strength\",\n",
        "\"motivation_willingness\",\n",
        "\"socialSupport_emotionality\",\n",
        "\"empowerment_knowledge\",\n",
        "\"empowerment_abilities\",\n",
        "\"empowerment_desires\"] # Features that were graphed\n",
        "\n",
        "rows = [] # 2-d array to be used for tabulate method\n",
        "for attr in attrs:\n",
        "  row = []\n",
        "  pos_mean = df.loc[df[\"ca_cervix\"] == 1][attr].mean() # positive participants\n",
        "  neg_mean = df.loc[df[\"ca_cervix\"] == 0][attr].mean() # negative participants\n",
        "  row.extend([attr, pos_mean, neg_mean, abs(pos_mean-neg_mean)]) # Each row has attr name, mean1, mean2, and the difference\n",
        "  rows.append(row) # Add to 2-d array\n",
        "\n",
        "print(\"Attribute\\t\\t\\tPositive Mean \\t\\t Negative Mean \\t\\t Difference\\n\")\n",
        "for row in rows:\n",
        "  print(row[0] + \":      \" + \"\\t\" + str(row[1]) + \"\\t\" + str(row[2]) + \"\\t\" + str(row[3]))"
      ],
      "execution_count": null,
      "outputs": [
        {
          "output_type": "stream",
          "text": [
            "Attribute\t\t\tPositive Mean \t\t Negative Mean \t\t Difference\n",
            "\n",
            "behavior_personalHygine:      \t9.333333333333334\t11.803921568627452\t2.4705882352941178\n",
            "intention_commitment:      \t12.476190476190476\t13.705882352941176\t1.2296918767506995\n",
            "norm_fulfillment:      \t5.238095238095238\t9.823529411764707\t4.585434173669468\n",
            "perception_vulnerability:      \t5.714285714285714\t9.666666666666666\t3.9523809523809517\n",
            "perception_severity:      \t2.7142857142857144\t6.490196078431373\t3.775910364145658\n",
            "motivation_strength:      \t10.333333333333334\t13.607843137254902\t3.2745098039215677\n",
            "motivation_willingness:      \t6.9523809523809526\t10.823529411764707\t3.871148459383754\n",
            "socialSupport_emotionality:      \t5.523809523809524\t9.156862745098039\t3.633053221288515\n",
            "empowerment_knowledge:      \t7.285714285714286\t11.882352941176471\t4.596638655462185\n",
            "empowerment_abilities:      \t5.809523809523809\t10.764705882352942\t4.955182072829133\n",
            "empowerment_desires:      \t7.095238095238095\t11.588235294117647\t4.492997198879552\n"
          ],
          "name": "stdout"
        }
      ]
    },
    {
      "cell_type": "markdown",
      "metadata": {
        "id": "qSI-r2aulhcU"
      },
      "source": [
        "To find which attribute contributed the most to the presence of cervical cancer, each mean was tested for cancer-positive and cancer-negative participants. A high difference in mean values could suggest that a strong correlation exists. In this case, a patient's abilities is the most likely determinant of cervical cancer presence. In addition, 3 of the top 5 attributes with the highest mean differences fell under the \"empowerment\" category. This suggests that a patient's empowerment is strongly affected by the presence of cervical cancer, and thus they are appropriate features for modelling."
      ]
    },
    {
      "cell_type": "markdown",
      "metadata": {
        "id": "rHJVjFd8SgBc"
      },
      "source": [
        "# **3. Data Modelling - Classification**"
      ]
    },
    {
      "cell_type": "markdown",
      "metadata": {
        "id": "Axk4IbP736kq"
      },
      "source": [
        "## Part 1) Hill Climbing: K-Nearest-Neighbor\n"
      ]
    },
    {
      "cell_type": "code",
      "metadata": {
        "id": "nK1GR0bTdeqD"
      },
      "source": [
        "# Set Target\n",
        "target = df['ca_cervix']"
      ],
      "execution_count": null,
      "outputs": []
    },
    {
      "cell_type": "code",
      "metadata": {
        "id": "tKsGPnUFiwmW",
        "colab": {
          "base_uri": "https://localhost:8080/"
        },
        "outputId": "e769ffff-90fe-4ac6-acb3-80051e16143b"
      },
      "source": [
        "target"
      ],
      "execution_count": null,
      "outputs": [
        {
          "output_type": "execute_result",
          "data": {
            "text/plain": [
              "0     1\n",
              "1     1\n",
              "2     1\n",
              "3     1\n",
              "4     1\n",
              "     ..\n",
              "67    0\n",
              "68    0\n",
              "69    0\n",
              "70    0\n",
              "71    0\n",
              "Name: ca_cervix, Length: 72, dtype: int64"
            ]
          },
          "metadata": {
            "tags": []
          },
          "execution_count": 29
        }
      ]
    },
    {
      "cell_type": "code",
      "metadata": {
        "id": "oOGsZs9hiXWY",
        "colab": {
          "base_uri": "https://localhost:8080/"
        },
        "outputId": "902780b2-e720-40a4-d938-c5931b2c8c9e"
      },
      "source": [
        "# Set Data\n",
        "data = df.drop(columns=\"ca_cervix\")\n",
        "data.columns"
      ],
      "execution_count": null,
      "outputs": [
        {
          "output_type": "execute_result",
          "data": {
            "text/plain": [
              "Index(['behavior_sexualRisk', 'behavior_eating', 'behavior_personalHygine',\n",
              "       'intention_aggregation', 'intention_commitment', 'attitude_consistency',\n",
              "       'attitude_spontaneity', 'norm_significantPerson', 'norm_fulfillment',\n",
              "       'perception_vulnerability', 'perception_severity',\n",
              "       'motivation_strength', 'motivation_willingness',\n",
              "       'socialSupport_emotionality', 'socialSupport_appreciation',\n",
              "       'socialSupport_instrumental', 'empowerment_knowledge',\n",
              "       'empowerment_abilities', 'empowerment_desires'],\n",
              "      dtype='object')"
            ]
          },
          "metadata": {
            "tags": []
          },
          "execution_count": 30
        }
      ]
    },
    {
      "cell_type": "markdown",
      "metadata": {
        "id": "z1wieweLA9Ik"
      },
      "source": [
        ""
      ]
    },
    {
      "cell_type": "code",
      "metadata": {
        "id": "8ph1oqS9iYCC",
        "colab": {
          "base_uri": "https://localhost:8080/",
          "height": 426
        },
        "outputId": "78eb5a4c-5a80-4f6c-a56b-11cbf0040045"
      },
      "source": [
        "data"
      ],
      "execution_count": null,
      "outputs": [
        {
          "output_type": "execute_result",
          "data": {
            "text/html": [
              "<div>\n",
              "<style scoped>\n",
              "    .dataframe tbody tr th:only-of-type {\n",
              "        vertical-align: middle;\n",
              "    }\n",
              "\n",
              "    .dataframe tbody tr th {\n",
              "        vertical-align: top;\n",
              "    }\n",
              "\n",
              "    .dataframe thead th {\n",
              "        text-align: right;\n",
              "    }\n",
              "</style>\n",
              "<table border=\"1\" class=\"dataframe\">\n",
              "  <thead>\n",
              "    <tr style=\"text-align: right;\">\n",
              "      <th></th>\n",
              "      <th>behavior_sexualRisk</th>\n",
              "      <th>behavior_eating</th>\n",
              "      <th>behavior_personalHygine</th>\n",
              "      <th>intention_aggregation</th>\n",
              "      <th>intention_commitment</th>\n",
              "      <th>attitude_consistency</th>\n",
              "      <th>attitude_spontaneity</th>\n",
              "      <th>norm_significantPerson</th>\n",
              "      <th>norm_fulfillment</th>\n",
              "      <th>perception_vulnerability</th>\n",
              "      <th>perception_severity</th>\n",
              "      <th>motivation_strength</th>\n",
              "      <th>motivation_willingness</th>\n",
              "      <th>socialSupport_emotionality</th>\n",
              "      <th>socialSupport_appreciation</th>\n",
              "      <th>socialSupport_instrumental</th>\n",
              "      <th>empowerment_knowledge</th>\n",
              "      <th>empowerment_abilities</th>\n",
              "      <th>empowerment_desires</th>\n",
              "    </tr>\n",
              "  </thead>\n",
              "  <tbody>\n",
              "    <tr>\n",
              "      <th>0</th>\n",
              "      <td>10</td>\n",
              "      <td>13</td>\n",
              "      <td>12</td>\n",
              "      <td>4</td>\n",
              "      <td>7</td>\n",
              "      <td>9</td>\n",
              "      <td>10</td>\n",
              "      <td>1</td>\n",
              "      <td>8</td>\n",
              "      <td>7</td>\n",
              "      <td>3</td>\n",
              "      <td>14</td>\n",
              "      <td>8</td>\n",
              "      <td>5</td>\n",
              "      <td>7</td>\n",
              "      <td>12</td>\n",
              "      <td>12</td>\n",
              "      <td>11</td>\n",
              "      <td>8</td>\n",
              "    </tr>\n",
              "    <tr>\n",
              "      <th>1</th>\n",
              "      <td>10</td>\n",
              "      <td>11</td>\n",
              "      <td>11</td>\n",
              "      <td>10</td>\n",
              "      <td>14</td>\n",
              "      <td>7</td>\n",
              "      <td>7</td>\n",
              "      <td>5</td>\n",
              "      <td>5</td>\n",
              "      <td>4</td>\n",
              "      <td>2</td>\n",
              "      <td>15</td>\n",
              "      <td>13</td>\n",
              "      <td>7</td>\n",
              "      <td>6</td>\n",
              "      <td>5</td>\n",
              "      <td>5</td>\n",
              "      <td>4</td>\n",
              "      <td>4</td>\n",
              "    </tr>\n",
              "    <tr>\n",
              "      <th>2</th>\n",
              "      <td>10</td>\n",
              "      <td>15</td>\n",
              "      <td>3</td>\n",
              "      <td>2</td>\n",
              "      <td>14</td>\n",
              "      <td>8</td>\n",
              "      <td>10</td>\n",
              "      <td>1</td>\n",
              "      <td>4</td>\n",
              "      <td>7</td>\n",
              "      <td>2</td>\n",
              "      <td>7</td>\n",
              "      <td>3</td>\n",
              "      <td>3</td>\n",
              "      <td>6</td>\n",
              "      <td>11</td>\n",
              "      <td>3</td>\n",
              "      <td>3</td>\n",
              "      <td>15</td>\n",
              "    </tr>\n",
              "    <tr>\n",
              "      <th>3</th>\n",
              "      <td>10</td>\n",
              "      <td>11</td>\n",
              "      <td>10</td>\n",
              "      <td>10</td>\n",
              "      <td>15</td>\n",
              "      <td>7</td>\n",
              "      <td>7</td>\n",
              "      <td>1</td>\n",
              "      <td>5</td>\n",
              "      <td>4</td>\n",
              "      <td>2</td>\n",
              "      <td>15</td>\n",
              "      <td>13</td>\n",
              "      <td>7</td>\n",
              "      <td>4</td>\n",
              "      <td>4</td>\n",
              "      <td>4</td>\n",
              "      <td>4</td>\n",
              "      <td>4</td>\n",
              "    </tr>\n",
              "    <tr>\n",
              "      <th>4</th>\n",
              "      <td>8</td>\n",
              "      <td>11</td>\n",
              "      <td>7</td>\n",
              "      <td>8</td>\n",
              "      <td>10</td>\n",
              "      <td>7</td>\n",
              "      <td>8</td>\n",
              "      <td>1</td>\n",
              "      <td>5</td>\n",
              "      <td>3</td>\n",
              "      <td>2</td>\n",
              "      <td>15</td>\n",
              "      <td>5</td>\n",
              "      <td>3</td>\n",
              "      <td>6</td>\n",
              "      <td>12</td>\n",
              "      <td>5</td>\n",
              "      <td>4</td>\n",
              "      <td>7</td>\n",
              "    </tr>\n",
              "    <tr>\n",
              "      <th>...</th>\n",
              "      <td>...</td>\n",
              "      <td>...</td>\n",
              "      <td>...</td>\n",
              "      <td>...</td>\n",
              "      <td>...</td>\n",
              "      <td>...</td>\n",
              "      <td>...</td>\n",
              "      <td>...</td>\n",
              "      <td>...</td>\n",
              "      <td>...</td>\n",
              "      <td>...</td>\n",
              "      <td>...</td>\n",
              "      <td>...</td>\n",
              "      <td>...</td>\n",
              "      <td>...</td>\n",
              "      <td>...</td>\n",
              "      <td>...</td>\n",
              "      <td>...</td>\n",
              "      <td>...</td>\n",
              "    </tr>\n",
              "    <tr>\n",
              "      <th>67</th>\n",
              "      <td>10</td>\n",
              "      <td>14</td>\n",
              "      <td>14</td>\n",
              "      <td>10</td>\n",
              "      <td>15</td>\n",
              "      <td>6</td>\n",
              "      <td>7</td>\n",
              "      <td>5</td>\n",
              "      <td>15</td>\n",
              "      <td>14</td>\n",
              "      <td>10</td>\n",
              "      <td>15</td>\n",
              "      <td>13</td>\n",
              "      <td>9</td>\n",
              "      <td>8</td>\n",
              "      <td>12</td>\n",
              "      <td>12</td>\n",
              "      <td>11</td>\n",
              "      <td>9</td>\n",
              "    </tr>\n",
              "    <tr>\n",
              "      <th>68</th>\n",
              "      <td>10</td>\n",
              "      <td>12</td>\n",
              "      <td>15</td>\n",
              "      <td>10</td>\n",
              "      <td>15</td>\n",
              "      <td>8</td>\n",
              "      <td>8</td>\n",
              "      <td>5</td>\n",
              "      <td>15</td>\n",
              "      <td>14</td>\n",
              "      <td>8</td>\n",
              "      <td>12</td>\n",
              "      <td>14</td>\n",
              "      <td>11</td>\n",
              "      <td>7</td>\n",
              "      <td>13</td>\n",
              "      <td>15</td>\n",
              "      <td>11</td>\n",
              "      <td>14</td>\n",
              "    </tr>\n",
              "    <tr>\n",
              "      <th>69</th>\n",
              "      <td>10</td>\n",
              "      <td>8</td>\n",
              "      <td>11</td>\n",
              "      <td>6</td>\n",
              "      <td>10</td>\n",
              "      <td>6</td>\n",
              "      <td>4</td>\n",
              "      <td>3</td>\n",
              "      <td>13</td>\n",
              "      <td>9</td>\n",
              "      <td>8</td>\n",
              "      <td>14</td>\n",
              "      <td>12</td>\n",
              "      <td>9</td>\n",
              "      <td>7</td>\n",
              "      <td>11</td>\n",
              "      <td>12</td>\n",
              "      <td>10</td>\n",
              "      <td>10</td>\n",
              "    </tr>\n",
              "    <tr>\n",
              "      <th>70</th>\n",
              "      <td>9</td>\n",
              "      <td>12</td>\n",
              "      <td>13</td>\n",
              "      <td>10</td>\n",
              "      <td>13</td>\n",
              "      <td>6</td>\n",
              "      <td>6</td>\n",
              "      <td>5</td>\n",
              "      <td>14</td>\n",
              "      <td>13</td>\n",
              "      <td>10</td>\n",
              "      <td>13</td>\n",
              "      <td>12</td>\n",
              "      <td>11</td>\n",
              "      <td>8</td>\n",
              "      <td>12</td>\n",
              "      <td>11</td>\n",
              "      <td>13</td>\n",
              "      <td>15</td>\n",
              "    </tr>\n",
              "    <tr>\n",
              "      <th>71</th>\n",
              "      <td>10</td>\n",
              "      <td>14</td>\n",
              "      <td>14</td>\n",
              "      <td>6</td>\n",
              "      <td>12</td>\n",
              "      <td>7</td>\n",
              "      <td>8</td>\n",
              "      <td>5</td>\n",
              "      <td>15</td>\n",
              "      <td>12</td>\n",
              "      <td>10</td>\n",
              "      <td>10</td>\n",
              "      <td>13</td>\n",
              "      <td>11</td>\n",
              "      <td>9</td>\n",
              "      <td>14</td>\n",
              "      <td>13</td>\n",
              "      <td>15</td>\n",
              "      <td>15</td>\n",
              "    </tr>\n",
              "  </tbody>\n",
              "</table>\n",
              "<p>72 rows × 19 columns</p>\n",
              "</div>"
            ],
            "text/plain": [
              "    behavior_sexualRisk  ...  empowerment_desires\n",
              "0                    10  ...                    8\n",
              "1                    10  ...                    4\n",
              "2                    10  ...                   15\n",
              "3                    10  ...                    4\n",
              "4                     8  ...                    7\n",
              "..                  ...  ...                  ...\n",
              "67                   10  ...                    9\n",
              "68                   10  ...                   14\n",
              "69                   10  ...                   10\n",
              "70                    9  ...                   15\n",
              "71                   10  ...                   15\n",
              "\n",
              "[72 rows x 19 columns]"
            ]
          },
          "metadata": {
            "tags": []
          },
          "execution_count": 31
        }
      ]
    },
    {
      "cell_type": "code",
      "metadata": {
        "id": "88ahJTh7iYmT",
        "colab": {
          "base_uri": "https://localhost:8080/"
        },
        "outputId": "eb04a7a3-eadd-4750-d51f-ad5208f22f1f"
      },
      "source": [
        "data.shape"
      ],
      "execution_count": null,
      "outputs": [
        {
          "output_type": "execute_result",
          "data": {
            "text/plain": [
              "(72, 19)"
            ]
          },
          "metadata": {
            "tags": []
          },
          "execution_count": 32
        }
      ]
    },
    {
      "cell_type": "code",
      "metadata": {
        "id": "IzCWD9GXi_c_",
        "colab": {
          "base_uri": "https://localhost:8080/"
        },
        "outputId": "c96088e5-14cf-4287-fd65-eeb9ab0313ee"
      },
      "source": [
        "target.shape"
      ],
      "execution_count": null,
      "outputs": [
        {
          "output_type": "execute_result",
          "data": {
            "text/plain": [
              "(72,)"
            ]
          },
          "metadata": {
            "tags": []
          },
          "execution_count": 33
        }
      ]
    },
    {
      "cell_type": "code",
      "metadata": {
        "id": "nkH5kqxF-gbt"
      },
      "source": [
        "from sklearn.utils import shuffle\n",
        "new_Ind = []\n",
        "cur_MaxScore = 0.0\n",
        "col_num = 20\n",
        "col_Ind_Random = shuffle(range(0,col_num), random_state=1)"
      ],
      "execution_count": null,
      "outputs": []
    },
    {
      "cell_type": "code",
      "metadata": {
        "colab": {
          "base_uri": "https://localhost:8080/"
        },
        "id": "ZXaWwwAo-gfb",
        "outputId": "c36350ff-c291-4b44-e82c-67372147aa26"
      },
      "source": [
        "for cur_f in range(0, col_num):\n",
        "  new_Ind.append(col_Ind_Random[cur_f]) # Add the new column\n",
        "  newData = df.iloc[:, new_Ind]         # Add all rows from the column\n",
        "\n",
        "  # train the data and perform test the data\n",
        "  X_train, X_test, y_train, y_test = train_test_split(newData, target,  test_size=0.4, random_state=1)\n",
        "\n",
        "  # set k value to 5 (trial and error found this one well)\n",
        "  clf = KNeighborsClassifier(5, weights='distance', p=1)\n",
        "\n",
        "  # fit classification model\n",
        "  fit = clf.fit(X_train, y_train)\n",
        "\n",
        "  # get current score of classification\n",
        "  cur_Score = clf.score(X_test, y_test)\n",
        "\n",
        "  # remove or keep condition for feature\n",
        "  if (cur_Score <= cur_MaxScore) or (cur_Score == 1.0): # preventing overfitting by removing anything that equals to 1.0\n",
        "    new_Ind.remove(col_Ind_Random[cur_f])\n",
        "  else:\n",
        "    cur_MaxScore = cur_Score\n",
        "    print(\"Score with \" + str(len(new_Ind)) + \" selected features: \" + str(cur_Score))"
      ],
      "execution_count": null,
      "outputs": [
        {
          "output_type": "stream",
          "text": [
            "Score with 1 selected features: 0.6896551724137931\n",
            "Score with 2 selected features: 0.7586206896551724\n",
            "Score with 3 selected features: 0.8620689655172413\n",
            "Score with 4 selected features: 0.9310344827586207\n",
            "Score with 5 selected features: 0.9655172413793104\n"
          ],
          "name": "stdout"
        }
      ]
    },
    {
      "cell_type": "code",
      "metadata": {
        "id": "mR1QMJcC8mRJ"
      },
      "source": [
        "selected_data = df.iloc[:, new_Ind]"
      ],
      "execution_count": null,
      "outputs": []
    },
    {
      "cell_type": "code",
      "metadata": {
        "colab": {
          "base_uri": "https://localhost:8080/",
          "height": 406
        },
        "id": "IvjYZV488w4s",
        "outputId": "a35f6f5e-5e1f-48f9-b1c5-577abf2c3055"
      },
      "source": [
        "# selected data for the training derived from feature selection\n",
        "selected_data"
      ],
      "execution_count": null,
      "outputs": [
        {
          "output_type": "execute_result",
          "data": {
            "text/html": [
              "<div>\n",
              "<style scoped>\n",
              "    .dataframe tbody tr th:only-of-type {\n",
              "        vertical-align: middle;\n",
              "    }\n",
              "\n",
              "    .dataframe tbody tr th {\n",
              "        vertical-align: top;\n",
              "    }\n",
              "\n",
              "    .dataframe thead th {\n",
              "        text-align: right;\n",
              "    }\n",
              "</style>\n",
              "<table border=\"1\" class=\"dataframe\">\n",
              "  <thead>\n",
              "    <tr style=\"text-align: right;\">\n",
              "      <th></th>\n",
              "      <th>intention_aggregation</th>\n",
              "      <th>perception_severity</th>\n",
              "      <th>socialSupport_appreciation</th>\n",
              "      <th>intention_commitment</th>\n",
              "      <th>socialSupport_emotionality</th>\n",
              "    </tr>\n",
              "  </thead>\n",
              "  <tbody>\n",
              "    <tr>\n",
              "      <th>0</th>\n",
              "      <td>4</td>\n",
              "      <td>3</td>\n",
              "      <td>7</td>\n",
              "      <td>7</td>\n",
              "      <td>5</td>\n",
              "    </tr>\n",
              "    <tr>\n",
              "      <th>1</th>\n",
              "      <td>10</td>\n",
              "      <td>2</td>\n",
              "      <td>6</td>\n",
              "      <td>14</td>\n",
              "      <td>7</td>\n",
              "    </tr>\n",
              "    <tr>\n",
              "      <th>2</th>\n",
              "      <td>2</td>\n",
              "      <td>2</td>\n",
              "      <td>6</td>\n",
              "      <td>14</td>\n",
              "      <td>3</td>\n",
              "    </tr>\n",
              "    <tr>\n",
              "      <th>3</th>\n",
              "      <td>10</td>\n",
              "      <td>2</td>\n",
              "      <td>4</td>\n",
              "      <td>15</td>\n",
              "      <td>7</td>\n",
              "    </tr>\n",
              "    <tr>\n",
              "      <th>4</th>\n",
              "      <td>8</td>\n",
              "      <td>2</td>\n",
              "      <td>6</td>\n",
              "      <td>10</td>\n",
              "      <td>3</td>\n",
              "    </tr>\n",
              "    <tr>\n",
              "      <th>...</th>\n",
              "      <td>...</td>\n",
              "      <td>...</td>\n",
              "      <td>...</td>\n",
              "      <td>...</td>\n",
              "      <td>...</td>\n",
              "    </tr>\n",
              "    <tr>\n",
              "      <th>67</th>\n",
              "      <td>10</td>\n",
              "      <td>10</td>\n",
              "      <td>8</td>\n",
              "      <td>15</td>\n",
              "      <td>9</td>\n",
              "    </tr>\n",
              "    <tr>\n",
              "      <th>68</th>\n",
              "      <td>10</td>\n",
              "      <td>8</td>\n",
              "      <td>7</td>\n",
              "      <td>15</td>\n",
              "      <td>11</td>\n",
              "    </tr>\n",
              "    <tr>\n",
              "      <th>69</th>\n",
              "      <td>6</td>\n",
              "      <td>8</td>\n",
              "      <td>7</td>\n",
              "      <td>10</td>\n",
              "      <td>9</td>\n",
              "    </tr>\n",
              "    <tr>\n",
              "      <th>70</th>\n",
              "      <td>10</td>\n",
              "      <td>10</td>\n",
              "      <td>8</td>\n",
              "      <td>13</td>\n",
              "      <td>11</td>\n",
              "    </tr>\n",
              "    <tr>\n",
              "      <th>71</th>\n",
              "      <td>6</td>\n",
              "      <td>10</td>\n",
              "      <td>9</td>\n",
              "      <td>12</td>\n",
              "      <td>11</td>\n",
              "    </tr>\n",
              "  </tbody>\n",
              "</table>\n",
              "<p>72 rows × 5 columns</p>\n",
              "</div>"
            ],
            "text/plain": [
              "    intention_aggregation  ...  socialSupport_emotionality\n",
              "0                       4  ...                           5\n",
              "1                      10  ...                           7\n",
              "2                       2  ...                           3\n",
              "3                      10  ...                           7\n",
              "4                       8  ...                           3\n",
              "..                    ...  ...                         ...\n",
              "67                     10  ...                           9\n",
              "68                     10  ...                          11\n",
              "69                      6  ...                           9\n",
              "70                     10  ...                          11\n",
              "71                      6  ...                          11\n",
              "\n",
              "[72 rows x 5 columns]"
            ]
          },
          "metadata": {
            "tags": []
          },
          "execution_count": 37
        }
      ]
    },
    {
      "cell_type": "code",
      "metadata": {
        "id": "u_Kwv8YCjBc0"
      },
      "source": [
        "# train and test data\n",
        "X_train, X_test, y_train, y_test = train_test_split(selected_data, target, test_size=0.4, random_state=2)"
      ],
      "execution_count": null,
      "outputs": []
    },
    {
      "cell_type": "code",
      "metadata": {
        "id": "qeY2Obt0jgWe"
      },
      "source": [
        "# classification model set k value to 5 (as per previous found this one well)\n",
        "clf = KNeighborsClassifier(5, weights='distance', p=1)"
      ],
      "execution_count": null,
      "outputs": []
    },
    {
      "cell_type": "markdown",
      "metadata": {
        "id": "kU9YZ1Q4q-rO"
      },
      "source": [
        "We choose to have the K value = 5 because the number of features identified by the algorithm finds 5 to be sufficient for such operations. The model now has good predictive power and can generalise well unseen data."
      ]
    },
    {
      "cell_type": "code",
      "metadata": {
        "id": "aMloocwVjgpo",
        "colab": {
          "base_uri": "https://localhost:8080/"
        },
        "outputId": "fec539cf-00e6-4041-fd73-8b5c73c03be9"
      },
      "source": [
        "# fit classification model\n",
        "clf.fit(X_train, y_train)"
      ],
      "execution_count": null,
      "outputs": [
        {
          "output_type": "execute_result",
          "data": {
            "text/plain": [
              "KNeighborsClassifier(algorithm='auto', leaf_size=30, metric='minkowski',\n",
              "                     metric_params=None, n_jobs=None, n_neighbors=5, p=1,\n",
              "                     weights='distance')"
            ]
          },
          "metadata": {
            "tags": []
          },
          "execution_count": 40
        }
      ]
    },
    {
      "cell_type": "code",
      "metadata": {
        "id": "XrbALKZWjio0"
      },
      "source": [
        "# Predict the values\n",
        "predicted = clf.predict(X_test)"
      ],
      "execution_count": null,
      "outputs": []
    },
    {
      "cell_type": "code",
      "metadata": {
        "id": "dq7P-Nnujk8M"
      },
      "source": [
        "# Construct confusion matrix\n",
        "cm = confusion_matrix(y_test, predicted)"
      ],
      "execution_count": null,
      "outputs": []
    },
    {
      "cell_type": "code",
      "metadata": {
        "id": "U7korWggjm3n",
        "colab": {
          "base_uri": "https://localhost:8080/"
        },
        "outputId": "29ba9c7b-6741-4dda-b4a6-b0acf8aee50b"
      },
      "source": [
        "# print confusion matrix\n",
        "print(cm)"
      ],
      "execution_count": null,
      "outputs": [
        {
          "output_type": "stream",
          "text": [
            "[[21  1]\n",
            " [ 2  5]]\n"
          ],
          "name": "stdout"
        }
      ]
    },
    {
      "cell_type": "code",
      "metadata": {
        "id": "IViJsgckjuSc",
        "colab": {
          "base_uri": "https://localhost:8080/"
        },
        "outputId": "172f0d7a-ebf5-469c-d27f-a2bbfdf54a88"
      },
      "source": [
        "# Print classification Report\n",
        "print(classification_report(y_test, predicted))"
      ],
      "execution_count": null,
      "outputs": [
        {
          "output_type": "stream",
          "text": [
            "              precision    recall  f1-score   support\n",
            "\n",
            "           0       0.91      0.95      0.93        22\n",
            "           1       0.83      0.71      0.77         7\n",
            "\n",
            "    accuracy                           0.90        29\n",
            "   macro avg       0.87      0.83      0.85        29\n",
            "weighted avg       0.89      0.90      0.89        29\n",
            "\n"
          ],
          "name": "stdout"
        }
      ]
    },
    {
      "cell_type": "code",
      "metadata": {
        "colab": {
          "base_uri": "https://localhost:8080/"
        },
        "id": "iSiz02Sl8Hfq",
        "outputId": "a80114bd-eb49-423b-e65b-1e29f094fb29"
      },
      "source": [
        "new_Ind"
      ],
      "execution_count": null,
      "outputs": [
        {
          "output_type": "execute_result",
          "data": {
            "text/plain": [
              "[3, 10, 14, 4, 13]"
            ]
          },
          "metadata": {
            "tags": []
          },
          "execution_count": 45
        }
      ]
    },
    {
      "cell_type": "code",
      "metadata": {
        "colab": {
          "base_uri": "https://localhost:8080/"
        },
        "id": "6JPlz8F_70op",
        "outputId": "f56394d7-204e-4c72-8741-c2a66767d217"
      },
      "source": [
        "print(accuracy_score(y_test, predicted))"
      ],
      "execution_count": null,
      "outputs": [
        {
          "output_type": "stream",
          "text": [
            "0.896551724137931\n"
          ],
          "name": "stdout"
        }
      ]
    },
    {
      "cell_type": "code",
      "metadata": {
        "id": "Q39M-JnKpUhL",
        "colab": {
          "base_uri": "https://localhost:8080/"
        },
        "outputId": "8642a281-1c84-4c10-f6fe-24ba695c13e6"
      },
      "source": [
        "X_train.shape"
      ],
      "execution_count": null,
      "outputs": [
        {
          "output_type": "execute_result",
          "data": {
            "text/plain": [
              "(43, 5)"
            ]
          },
          "metadata": {
            "tags": []
          },
          "execution_count": 47
        }
      ]
    },
    {
      "cell_type": "code",
      "metadata": {
        "id": "TDN4kx9UpuXe",
        "colab": {
          "base_uri": "https://localhost:8080/"
        },
        "outputId": "6b4d0060-0736-48d7-f5e1-c66b9d960e76"
      },
      "source": [
        "X_test.shape"
      ],
      "execution_count": null,
      "outputs": [
        {
          "output_type": "execute_result",
          "data": {
            "text/plain": [
              "(29, 5)"
            ]
          },
          "metadata": {
            "tags": []
          },
          "execution_count": 48
        }
      ]
    },
    {
      "cell_type": "code",
      "metadata": {
        "id": "WgioB6F_pv88",
        "colab": {
          "base_uri": "https://localhost:8080/"
        },
        "outputId": "7a2de7aa-8351-43ef-f0e8-5324e3936dfe"
      },
      "source": [
        "df.shape"
      ],
      "execution_count": null,
      "outputs": [
        {
          "output_type": "execute_result",
          "data": {
            "text/plain": [
              "(72, 20)"
            ]
          },
          "metadata": {
            "tags": []
          },
          "execution_count": 49
        }
      ]
    },
    {
      "cell_type": "markdown",
      "metadata": {
        "id": "pKUOFvZo4IIh"
      },
      "source": [
        "## Part 2) Decision Trees"
      ]
    },
    {
      "cell_type": "code",
      "metadata": {
        "id": "stOrjOOV4KpY"
      },
      "source": [
        "from sklearn.model_selection import train_test_split # splitting data\n",
        "from sklearn.tree import DecisionTreeClassifier # decision tree\n",
        "from sklearn import metrics # for accuracy"
      ],
      "execution_count": null,
      "outputs": []
    },
    {
      "cell_type": "code",
      "metadata": {
        "colab": {
          "base_uri": "https://localhost:8080/"
        },
        "id": "xvDblKPY8iv7",
        "outputId": "ea56323a-8404-4666-a88b-c2ccb6106318"
      },
      "source": [
        "# Split data\n",
        "\n",
        "feature_cols = [\"empowerment_desires\", \"empowerment_abilities\", \"empowerment_knowledge\", \"socialSupport_emotionality\", \"motivation_strength\", \"motivation_willingness\", \"perception_severity\", \"perception_vulnerability\", \"norm_fulfillment\", \"intention_commitment\", \"behavior_personalHygine\"] # select features\n",
        "X = df[feature_cols].values # features\n",
        "y = df.ca_cervix # target\n",
        "print(X.shape)\n",
        "print(y.shape)"
      ],
      "execution_count": null,
      "outputs": [
        {
          "output_type": "stream",
          "text": [
            "(72, 11)\n",
            "(72,)\n"
          ],
          "name": "stdout"
        }
      ]
    },
    {
      "cell_type": "code",
      "metadata": {
        "id": "4kzPv93s9wLS"
      },
      "source": [
        "X_train, X_test, y_train, y_test = train_test_split(X, y, test_size=0.4, random_state=2)"
      ],
      "execution_count": null,
      "outputs": []
    },
    {
      "cell_type": "code",
      "metadata": {
        "id": "2T2jSxSC-B7j"
      },
      "source": [
        "# Build model\n",
        "\n",
        "clf = DecisionTreeClassifier()\n",
        "clf = clf.fit(X_train, y_train)\n",
        "y_pred = clf.predict(X_test)"
      ],
      "execution_count": null,
      "outputs": []
    },
    {
      "cell_type": "code",
      "metadata": {
        "colab": {
          "base_uri": "https://localhost:8080/"
        },
        "id": "BRclBCN7-ELC",
        "outputId": "4ff582e6-0e8d-4bec-bf8a-e433a0caef88"
      },
      "source": [
        "# Measure predictions\n",
        "\n",
        "print(\"Accuracy:\", metrics.accuracy_score(y_test, y_pred))"
      ],
      "execution_count": null,
      "outputs": [
        {
          "output_type": "stream",
          "text": [
            "Accuracy: 0.8275862068965517\n"
          ],
          "name": "stdout"
        }
      ]
    },
    {
      "cell_type": "code",
      "metadata": {
        "colab": {
          "base_uri": "https://localhost:8080/"
        },
        "id": "gdx5M5S3-Eww",
        "outputId": "f7b6998a-986d-4975-8dec-d545008e9829"
      },
      "source": [
        "# Measure predictions\n",
        "\n",
        "from sklearn.metrics import confusion_matrix\n",
        "# Confusion Matrix\n",
        "cm = confusion_matrix(y_test, y_pred)\n",
        "print(cm)\n",
        "\n",
        "# Classification Report\n",
        "from sklearn.metrics import classification_report\n",
        "print(classification_report(y_test, y_pred))"
      ],
      "execution_count": null,
      "outputs": [
        {
          "output_type": "stream",
          "text": [
            "[[19  3]\n",
            " [ 2  5]]\n",
            "              precision    recall  f1-score   support\n",
            "\n",
            "           0       0.90      0.86      0.88        22\n",
            "           1       0.62      0.71      0.67         7\n",
            "\n",
            "    accuracy                           0.83        29\n",
            "   macro avg       0.76      0.79      0.78        29\n",
            "weighted avg       0.84      0.83      0.83        29\n",
            "\n"
          ],
          "name": "stdout"
        }
      ]
    },
    {
      "cell_type": "code",
      "metadata": {
        "id": "TeWBawKy-Gtp"
      },
      "source": [
        "from sklearn import tree\n",
        "\n",
        "with open('cervical_cancer.dot', 'w') as f:\n",
        "    f = tree.export_graphviz(clf, out_file= f,\n",
        "feature_names=feature_cols,\n",
        "class_names=['0', '1'], filled=True, rounded=True, special_characters=True)\n",
        "    \n",
        "# Exports to dot file, can be viewed on graphviz"
      ],
      "execution_count": null,
      "outputs": []
    },
    {
      "cell_type": "markdown",
      "metadata": {
        "id": "8EckQ3lwdo6T"
      },
      "source": [
        "As we can see from the data evaluation, the decision tree algorithm can be used for selecting the features and its outcomes, though its accuracy is less than that of K-Nearest Neighbours with the Hill Climbing Algorithm."
      ]
    },
    {
      "cell_type": "code",
      "metadata": {
        "id": "wL0cGJrd0AYj"
      },
      "source": [
        ""
      ],
      "execution_count": null,
      "outputs": []
    }
  ]
}